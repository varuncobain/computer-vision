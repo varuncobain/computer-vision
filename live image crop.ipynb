{
 "cells": [
  {
   "cell_type": "code",
   "execution_count": 1,
   "id": "70f6d273",
   "metadata": {},
   "outputs": [],
   "source": [
    "import cv2"
   ]
  },
  {
   "cell_type": "code",
   "execution_count": 2,
   "id": "4863ec0c",
   "metadata": {},
   "outputs": [],
   "source": [
    "cap = cv2.VideoCapture(1)"
   ]
  },
  {
   "cell_type": "code",
   "execution_count": 3,
   "id": "8383b809",
   "metadata": {},
   "outputs": [],
   "source": [
    "model = cv2.CascadeClassifier('haarcascade_frontalface_default.xml')"
   ]
  },
  {
   "cell_type": "code",
   "execution_count": 90,
   "id": "d3005db1",
   "metadata": {},
   "outputs": [],
   "source": [
    "cap.release()"
   ]
  },
  {
   "cell_type": "code",
   "execution_count": 89,
   "id": "cae635be",
   "metadata": {},
   "outputs": [],
   "source": [
    "while True:\n",
    "    ret, photo = cap.read()\n",
    "    fdetect  = model.detectMultiScale(photo)\n",
    "    if len(fdetect) == 0:\n",
    "        print(\"no faces\")\n",
    "    else:\n",
    "        x1 = fdetect[0][0]\n",
    "        y1 = fdetect[0][1]\n",
    "        x2 = fdetect[0][2] + x1\n",
    "        y2 = fdetect[0][3] + y1 \n",
    "        # rphoto = cv2.rectangle(photo , (x1,y1), (x2,y2), [0, 255,0] , 2)\n",
    "        #cphoto = photo[y1:y2 , x1:x2]\n",
    "        # bphoto = cv2.blur(cphoto, (15,15))\n",
    "        cv2.imshow('hi', photo)\n",
    "        if cv2.waitKey(100) == 13:\n",
    "            break\n",
    "        \n",
    "        \n",
    "cv2.destroyAllWindows()"
   ]
  },
  {
   "cell_type": "code",
   "execution_count": 68,
   "id": "f40d5823",
   "metadata": {},
   "outputs": [],
   "source": []
  },
  {
   "cell_type": "code",
   "execution_count": 69,
   "id": "3d2e4eed",
   "metadata": {},
   "outputs": [
    {
     "data": {
      "text/plain": [
       "array([[288, 119, 133, 133]], dtype=int32)"
      ]
     },
     "execution_count": 69,
     "metadata": {},
     "output_type": "execute_result"
    }
   ],
   "source": [
    "fdetect"
   ]
  },
  {
   "cell_type": "code",
   "execution_count": 54,
   "id": "2582b3a0",
   "metadata": {},
   "outputs": [],
   "source": [
    "a = ()"
   ]
  },
  {
   "cell_type": "code",
   "execution_count": 55,
   "id": "6cc20b0e",
   "metadata": {},
   "outputs": [
    {
     "ename": "IndexError",
     "evalue": "tuple index out of range",
     "output_type": "error",
     "traceback": [
      "\u001b[1;31m---------------------------------------------------------------------------\u001b[0m",
      "\u001b[1;31mIndexError\u001b[0m                                Traceback (most recent call last)",
      "\u001b[1;32m<ipython-input-55-f19d0928221a>\u001b[0m in \u001b[0;36m<module>\u001b[1;34m\u001b[0m\n\u001b[1;32m----> 1\u001b[1;33m \u001b[0ma\u001b[0m\u001b[1;33m[\u001b[0m\u001b[1;36m1\u001b[0m\u001b[1;33m]\u001b[0m\u001b[1;33m[\u001b[0m\u001b[1;36m0\u001b[0m\u001b[1;33m]\u001b[0m\u001b[1;33m\u001b[0m\u001b[1;33m\u001b[0m\u001b[0m\n\u001b[0m",
      "\u001b[1;31mIndexError\u001b[0m: tuple index out of range"
     ]
    }
   ],
   "source": [
    "a[1][0]"
   ]
  },
  {
   "cell_type": "code",
   "execution_count": 70,
   "id": "2f69a844",
   "metadata": {},
   "outputs": [
    {
     "name": "stdout",
     "output_type": "stream",
     "text": [
      "we have faces\n"
     ]
    }
   ],
   "source": [
    "if len(fdetect) == 0:\n",
    "    print(\"no faces\")\n",
    "else:\n",
    "    print(\"we have faces\")"
   ]
  },
  {
   "cell_type": "code",
   "execution_count": 15,
   "id": "b116a0f3",
   "metadata": {},
   "outputs": [],
   "source": [
    "# len(fdetect)"
   ]
  },
  {
   "cell_type": "code",
   "execution_count": 71,
   "id": "eaf0d368",
   "metadata": {},
   "outputs": [],
   "source": [
    "x1 = fdetect[0][0]"
   ]
  },
  {
   "cell_type": "code",
   "execution_count": 72,
   "id": "637c5507",
   "metadata": {},
   "outputs": [],
   "source": [
    "y1 = fdetect[0][1]"
   ]
  },
  {
   "cell_type": "code",
   "execution_count": 73,
   "id": "a3a26e1c",
   "metadata": {},
   "outputs": [],
   "source": [
    "x2 = fdetect[0][2] + x1"
   ]
  },
  {
   "cell_type": "code",
   "execution_count": 74,
   "id": "a9d71a98",
   "metadata": {},
   "outputs": [],
   "source": [
    "y2 = fdetect[0][3] + y1 "
   ]
  },
  {
   "cell_type": "code",
   "execution_count": 75,
   "id": "635081bd",
   "metadata": {},
   "outputs": [],
   "source": [
    "rphoto = cv2.rectangle(photo , (x1,y1), (x2,y2), [0, 255,0] , 2)"
   ]
  },
  {
   "cell_type": "code",
   "execution_count": 76,
   "id": "3bcc008e",
   "metadata": {},
   "outputs": [],
   "source": [
    "cv2.imshow('hi', rphoto)\n",
    "cv2.waitKey()\n",
    "cv2.destroyAllWindows()"
   ]
  },
  {
   "cell_type": "code",
   "execution_count": 77,
   "id": "768ba8de",
   "metadata": {},
   "outputs": [],
   "source": [
    "cphoto = photo[y1:y2 , x1:x2]"
   ]
  },
  {
   "cell_type": "code",
   "execution_count": 79,
   "id": "0edd788d",
   "metadata": {},
   "outputs": [],
   "source": [
    "cv2.imshow('hi', cphoto)\n",
    "cv2.waitKey()\n",
    "cv2.destroyAllWindows()"
   ]
  },
  {
   "cell_type": "code",
   "execution_count": null,
   "id": "9a93eb64",
   "metadata": {},
   "outputs": [],
   "source": []
  }
 ],
 "metadata": {
  "kernelspec": {
   "display_name": "Python 3",
   "language": "python",
   "name": "python3"
  },
  "language_info": {
   "codemirror_mode": {
    "name": "ipython",
    "version": 3
   },
   "file_extension": ".py",
   "mimetype": "text/x-python",
   "name": "python",
   "nbconvert_exporter": "python",
   "pygments_lexer": "ipython3",
   "version": "3.8.8"
  }
 },
 "nbformat": 4,
 "nbformat_minor": 5
}
